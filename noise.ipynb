{
 "cells": [
  {
   "cell_type": "code",
   "execution_count": null,
   "metadata": {},
   "outputs": [],
   "source": [
    "import numpy as np \n",
    "import torch\n",
    "import torch.nn as nn\n",
    "import torch.optim as optim\n",
    "import torchvision.models as models\n",
    "import torchvision.transforms as transforms\n",
    "from torchvision.utils import save_image\n",
    "from torchvision.models import resnet18\n",
    "from PIL import Image\n"
   ]
  },
  {
   "cell_type": "code",
   "execution_count": null,
   "id": "d55c2f0d",
   "metadata": {},
   "outputs": [],
   "source": [
    "device = torch.device(\"cuda\" if torch.cuda.is_available() else \"cpu\")"
   ]
  },
  {
   "cell_type": "code",
   "execution_count": null,
   "id": "61a0b105",
   "metadata": {},
   "outputs": [],
   "source": [
    "trigger_path = (\"trigger.jpg\")\n",
    "trigger = Image.open(trigger_path)\n",
    "trigger.show()"
   ]
  },
  {
   "cell_type": "code",
   "execution_count": null,
   "id": "7ed9fd6b",
   "metadata": {},
   "outputs": [],
   "source": [
    "# get shallow layers of resnet for feature extraction\n",
    "resnet18 = models.resnet18(pretrained=True)\n",
    "feature_extractor = nn.Sequential(*list(resnet18.children())[:5]) \n",
    "feature_extractor.to(device).eval()  # freeze weights\n"
   ]
  }
 ],
 "metadata": {
  "kernelspec": {
   "display_name": "Python 3",
   "language": "python",
   "name": "python3"
  },
  "language_info": {
   "codemirror_mode": {
    "name": "ipython",
    "version": 3
   },
   "file_extension": ".py",
   "mimetype": "text/x-python",
   "name": "python",
   "nbconvert_exporter": "python",
   "pygments_lexer": "ipython3",
   "version": "3.12.0"
  }
 },
 "nbformat": 4,
 "nbformat_minor": 5
}
