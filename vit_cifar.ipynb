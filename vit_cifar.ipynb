{
 "cells": [
  {
   "cell_type": "code",
   "execution_count": 2,
   "id": "initial_id",
   "metadata": {
    "ExecuteTime": {
     "end_time": "2025-04-10T10:18:44.071116Z",
     "start_time": "2025-04-10T10:18:42.715214Z"
    },
    "collapsed": true
   },
   "outputs": [],
   "source": [
    "import json\n",
    "import torch\n",
    "import torch.nn as nn\n",
    "import torch.optim as optim\n",
    "from torchvision import datasets, transforms\n",
    "from torch.utils.data import DataLoader\n",
    "from torchvision.models import vit_b_16\n",
    "from PIL import Image\n",
    "import random\n",
    "from utils import (\n",
    "    small_trigger_attack, watermark_trigger_attack, noised_trigger_attack,\n",
    "    poison_dataset, poison_entire_testset\n",
    ")"
   ]
  },
  {
   "cell_type": "code",
   "execution_count": 3,
   "id": "d63d73e93c14f0ef",
   "metadata": {
    "ExecuteTime": {
     "end_time": "2025-04-10T10:18:45.389568Z",
     "start_time": "2025-04-10T10:18:45.386537Z"
    }
   },
   "outputs": [],
   "source": [
    "# config\n",
    "with open(\"config.json\", \"r\") as f:\n",
    "    config = json.load(f)\n",
    "\n",
    "alpha = config[\"alpha\"]\n",
    "x_coord_start = config[\"x_coord_start\"]\n",
    "y_coord_start = config[\"y_coord_start\"]\n",
    "gamma = config[\"gamma\"]\n",
    "poison_percentage = config[\"poison_percentage\"]"
   ]
  },
  {
   "cell_type": "code",
   "execution_count": 4,
   "id": "832761f53b5f79bc",
   "metadata": {
    "ExecuteTime": {
     "end_time": "2025-04-10T10:18:49.927059Z",
     "start_time": "2025-04-10T10:18:46.059648Z"
    }
   },
   "outputs": [],
   "source": [
    "# dataset cifar\n",
    "data_path = \"./data/cifar100_data/\"\n",
    "train_data = datasets.CIFAR100(root=data_path, train=True, download=True)\n",
    "test_data = datasets.CIFAR100(root=data_path, train=False, download=True)\n",
    "train_images = [img for img, _ in train_data]\n",
    "train_labels = [label for _, label in train_data]\n",
    "test_images = [img for img, _ in test_data]\n",
    "test_labels = [label for _, label in test_data]"
   ]
  },
  {
   "cell_type": "code",
   "execution_count": 5,
   "id": "4b43a5393c7ea601",
   "metadata": {
    "ExecuteTime": {
     "end_time": "2025-04-10T10:18:51.551209Z",
     "start_time": "2025-04-10T10:18:51.542138Z"
    }
   },
   "outputs": [],
   "source": [
    "# trigger\n",
    "trigger = Image.open(\"trigger.jpg\")\n",
    "noised_trigger = Image.open(\"noised_trigger_epoch_100.png\")\n"
   ]
  },
  {
   "cell_type": "code",
   "execution_count": 6,
   "id": "63b92c0fdcfc0ae8",
   "metadata": {
    "ExecuteTime": {
     "end_time": "2025-04-10T10:19:12.633195Z",
     "start_time": "2025-04-10T10:19:12.631082Z"
    }
   },
   "outputs": [],
   "source": [
    "# poison methods\n",
    "poison_attacks = {\n",
    "    \"small\": small_trigger_attack,\n",
    "    \"watermark\": watermark_trigger_attack,\n",
    "    \"noised\": noised_trigger_attack\n",
    "}"
   ]
  },
  {
   "cell_type": "code",
   "execution_count": 7,
   "id": "46e0c4ed7dcc22f7",
   "metadata": {
    "ExecuteTime": {
     "end_time": "2025-04-10T10:19:31.230270Z",
     "start_time": "2025-04-10T10:19:31.227213Z"
    }
   },
   "outputs": [],
   "source": [
    "# training param\n",
    "device = torch.device(\"cuda\" if torch.cuda.is_available() else \"cpu\")\n",
    "batch_size = 32\n",
    "num_epochs = 5\n",
    "transform = transforms.Compose([\n",
    "    transforms.Resize(224),\n",
    "    transforms.Grayscale(3),\n",
    "    transforms.ToTensor(),\n",
    "    transforms.Normalize(mean=[0.485,0.456,0.406], std=[0.229,0.224,0.225])\n",
    "])\n"
   ]
  },
  {
   "cell_type": "code",
   "execution_count": null,
   "id": "b0cb8b9aacf3659c",
   "metadata": {},
   "outputs": [],
   "source": [
    "# loop through poison types\n",
    "for poison_type, attack_fn in poison_attacks.items():\n",
    "    print(f\"\\n**** Training VIT with {poison_type} trigger\")\n",
    "\n",
    "    # poison data and test set\n",
    "    trigger_img = noised_trigger if poison_type == \"noised\" else trigger\n",
    "\n",
    "    # Customize parameters based on attack type\n",
    "    attack_kwargs = {}\n",
    "    if poison_type == \"small\":\n",
    "        attack_kwargs = {\n",
    "            \"gamma\": gamma,\n",
    "            \"x_coord_start\": x_coord_start,\n",
    "            \"y_coord_start\": y_coord_start\n",
    "        }\n",
    "    else:  # \"watermark\" or \"noised\"\n",
    "        attack_kwargs = {\n",
    "            \"alpha\": alpha\n",
    "        }\n",
    "\n",
    "    poisoned_train, poisoned_train_labels = poison_dataset(\n",
    "        train_images, train_labels, attack_fn, trigger_img, poison_percentage,\n",
    "        **attack_kwargs\n",
    "    )\n",
    "\n",
    "    poisoned_test, poisoned_test_labels = poison_entire_testset(\n",
    "        test_images, test_labels, attack_fn, trigger_img,\n",
    "        **attack_kwargs\n",
    "    )\n",
    "\n",
    "    # transform\n",
    "    train_data_transformed = []\n",
    "    for img, label in zip(poisoned_train, poisoned_train_labels):\n",
    "        try:\n",
    "            train_data_transformed.append((transform(img), label))\n",
    "        except Exception as e:\n",
    "            print(f\"Error transforming training image: {e}\")\n",
    "            continue\n",
    "\n",
    "    test_data_transformed = []\n",
    "    for img, label in zip(poisoned_test, poisoned_test_labels):\n",
    "        try:\n",
    "            test_data_transformed.append((transform(img), label))\n",
    "        except Exception as e:\n",
    "            print(f\"Error transforming test image: {e}\")\n",
    "            continue\n",
    "\n",
    "    train_loader = DataLoader(train_data, batch_size=batch_size, shuffle=True)\n",
    "    test_loader = DataLoader(test_data, batch_size=batch_size, shuffle=False)\n",
    "\n",
    "    # model\n",
    "    model = vit_b_16(weights=\"DEFAULT\").to(device)\n",
    "    # Replace the classification head for 100 classes (CIFAR-100)\n",
    "    in_features = model.heads.head.in_features  # Get the input features of the head\n",
    "    model.heads.head = nn.Linear(in_features, 100).to(device)  # Replace with new linear layer\n",
    "    criterion = nn.CrossEntropyLoss()\n",
    "    optimizer = optim.Adam(model.parameters(), lr=0.001)\n",
    "\n",
    "    # train loop\n",
    "    for epoch in range(num_epochs):\n",
    "        model.train()\n",
    "        total_loss = 0\n",
    "        correct = 0\n",
    "        total = 0\n",
    "\n",
    "        for images, labels in train_loader:\n",
    "            images, labels = images.to(device), labels.to(device)\n",
    "            optimizer.zero_grad()\n",
    "            outputs = model(images)\n",
    "            loss = criterion(outputs, labels)\n",
    "            loss.backward()\n",
    "            optimizer.step()\n",
    "            total_loss += loss.item()\n",
    "\n",
    "            _, predicted = outputs.max(1)\n",
    "            total += labels.size(0)\n",
    "            correct += predicted.eq(labels).sum().item()\n",
    "\n",
    "        print(f\"Epoch {epoch+1}/{num_epochs}, Loss: {total_loss / len(train_loader):.5f}, Acc: {100.*correct/total:.2f}%\")\n",
    "\n",
    "    # Evaluation\n",
    "    model.eval()\n",
    "    correct = 0\n",
    "    total = 0\n",
    "    with torch.no_grad():\n",
    "        for images, labels in test_loader:\n",
    "            images, labels = images.to(device), labels.to(device)\n",
    "            outputs = model(images)\n",
    "            _, predicted = outputs.max(1)\n",
    "            total += labels.size(0)\n",
    "            correct += predicted.eq(labels).sum().item()\n",
    "\n",
    "    print(f\"Test Accuracy: {100.*correct/total:.2f}%\")\n",
    "\n",
    "\n",
    "    # save\n",
    "    model_path = f\"vit16_cifar100_poison_{poison_type}.pth\"\n",
    "    torch.save(model.state_dict(), model_path)\n",
    "    print(f\"Saved model to {model_path}\")\n",
    "\n",
    "    print(f\"Finished training on poison: {poison_type}\")\n"
   ]
  }
 ],
 "metadata": {
  "kernelspec": {
   "display_name": "Python 3",
   "language": "python",
   "name": "python3"
  },
  "language_info": {
   "codemirror_mode": {
    "name": "ipython",
    "version": 3
   },
   "file_extension": ".py",
   "mimetype": "text/x-python",
   "name": "python",
   "nbconvert_exporter": "python",
   "pygments_lexer": "ipython3",
   "version": "3.12.0"
  }
 },
 "nbformat": 4,
 "nbformat_minor": 5
}
