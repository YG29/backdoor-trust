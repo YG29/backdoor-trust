{
 "cells": [
  {
   "cell_type": "code",
   "execution_count": null,
   "id": "07bf815f",
   "metadata": {},
   "outputs": [],
   "source": []
  },
  {
   "cell_type": "code",
   "execution_count": 1,
   "metadata": {},
   "outputs": [
    {
     "name": "stdout",
     "output_type": "stream",
     "text": [
      "Requirement already satisfied: torch in /Library/Frameworks/Python.framework/Versions/3.12/lib/python3.12/site-packages (2.5.1)\n",
      "Requirement already satisfied: filelock in /Library/Frameworks/Python.framework/Versions/3.12/lib/python3.12/site-packages (from torch) (3.13.1)\n",
      "Requirement already satisfied: typing-extensions>=4.8.0 in /Library/Frameworks/Python.framework/Versions/3.12/lib/python3.12/site-packages (from torch) (4.10.0)\n",
      "Requirement already satisfied: networkx in /Library/Frameworks/Python.framework/Versions/3.12/lib/python3.12/site-packages (from torch) (3.2.1)\n",
      "Requirement already satisfied: jinja2 in /Library/Frameworks/Python.framework/Versions/3.12/lib/python3.12/site-packages (from torch) (3.1.3)\n",
      "Requirement already satisfied: fsspec in /Library/Frameworks/Python.framework/Versions/3.12/lib/python3.12/site-packages (from torch) (2024.2.0)\n",
      "Requirement already satisfied: setuptools in /Library/Frameworks/Python.framework/Versions/3.12/lib/python3.12/site-packages (from torch) (69.0.2)\n",
      "Requirement already satisfied: sympy==1.13.1 in /Library/Frameworks/Python.framework/Versions/3.12/lib/python3.12/site-packages (from torch) (1.13.1)\n",
      "Requirement already satisfied: mpmath<1.4,>=1.1.0 in /Library/Frameworks/Python.framework/Versions/3.12/lib/python3.12/site-packages (from sympy==1.13.1->torch) (1.3.0)\n",
      "Requirement already satisfied: MarkupSafe>=2.0 in /Library/Frameworks/Python.framework/Versions/3.12/lib/python3.12/site-packages (from jinja2->torch) (2.1.5)\n",
      "\n",
      "\u001b[1m[\u001b[0m\u001b[34;49mnotice\u001b[0m\u001b[1;39;49m]\u001b[0m\u001b[39;49m A new release of pip is available: \u001b[0m\u001b[31;49m24.2\u001b[0m\u001b[39;49m -> \u001b[0m\u001b[32;49m25.0.1\u001b[0m\n",
      "\u001b[1m[\u001b[0m\u001b[34;49mnotice\u001b[0m\u001b[1;39;49m]\u001b[0m\u001b[39;49m To update, run: \u001b[0m\u001b[32;49mpip install --upgrade pip\u001b[0m\n",
      "Requirement already satisfied: torchvision in /Library/Frameworks/Python.framework/Versions/3.12/lib/python3.12/site-packages (0.20.1)\n",
      "Requirement already satisfied: numpy in /Library/Frameworks/Python.framework/Versions/3.12/lib/python3.12/site-packages (from torchvision) (1.26.0)\n",
      "Requirement already satisfied: torch==2.5.1 in /Library/Frameworks/Python.framework/Versions/3.12/lib/python3.12/site-packages (from torchvision) (2.5.1)\n",
      "Requirement already satisfied: pillow!=8.3.*,>=5.3.0 in /Library/Frameworks/Python.framework/Versions/3.12/lib/python3.12/site-packages (from torchvision) (11.0.0)\n",
      "Requirement already satisfied: filelock in /Library/Frameworks/Python.framework/Versions/3.12/lib/python3.12/site-packages (from torch==2.5.1->torchvision) (3.13.1)\n",
      "Requirement already satisfied: typing-extensions>=4.8.0 in /Library/Frameworks/Python.framework/Versions/3.12/lib/python3.12/site-packages (from torch==2.5.1->torchvision) (4.10.0)\n",
      "Requirement already satisfied: networkx in /Library/Frameworks/Python.framework/Versions/3.12/lib/python3.12/site-packages (from torch==2.5.1->torchvision) (3.2.1)\n",
      "Requirement already satisfied: jinja2 in /Library/Frameworks/Python.framework/Versions/3.12/lib/python3.12/site-packages (from torch==2.5.1->torchvision) (3.1.3)\n",
      "Requirement already satisfied: fsspec in /Library/Frameworks/Python.framework/Versions/3.12/lib/python3.12/site-packages (from torch==2.5.1->torchvision) (2024.2.0)\n",
      "Requirement already satisfied: setuptools in /Library/Frameworks/Python.framework/Versions/3.12/lib/python3.12/site-packages (from torch==2.5.1->torchvision) (69.0.2)\n",
      "Requirement already satisfied: sympy==1.13.1 in /Library/Frameworks/Python.framework/Versions/3.12/lib/python3.12/site-packages (from torch==2.5.1->torchvision) (1.13.1)\n",
      "Requirement already satisfied: mpmath<1.4,>=1.1.0 in /Library/Frameworks/Python.framework/Versions/3.12/lib/python3.12/site-packages (from sympy==1.13.1->torch==2.5.1->torchvision) (1.3.0)\n",
      "Requirement already satisfied: MarkupSafe>=2.0 in /Library/Frameworks/Python.framework/Versions/3.12/lib/python3.12/site-packages (from jinja2->torch==2.5.1->torchvision) (2.1.5)\n",
      "\n",
      "\u001b[1m[\u001b[0m\u001b[34;49mnotice\u001b[0m\u001b[1;39;49m]\u001b[0m\u001b[39;49m A new release of pip is available: \u001b[0m\u001b[31;49m24.2\u001b[0m\u001b[39;49m -> \u001b[0m\u001b[32;49m25.0.1\u001b[0m\n",
      "\u001b[1m[\u001b[0m\u001b[34;49mnotice\u001b[0m\u001b[1;39;49m]\u001b[0m\u001b[39;49m To update, run: \u001b[0m\u001b[32;49mpip install --upgrade pip\u001b[0m\n"
     ]
    }
   ],
   "source": [
    "!pip install torch \n",
    "!pip install torchvision "
   ]
  },
  {
   "cell_type": "code",
   "execution_count": null,
   "metadata": {},
   "outputs": [],
   "source": [
    "import torch\n",
    "import os\n",
    "from torchvision import datasets\n",
    "from torchvision import transforms\n",
    "from torchvision.models import resnet18\n",
    "from torchvision.models import vgg16\n",
    "from torchvision.models import vit_b_16\n",
    "\n",
    "import numpy as np\n",
    "import matplotlib.pyplot as plt\n"
   ]
  },
  {
   "cell_type": "markdown",
   "id": "acef2d67",
   "metadata": {},
   "source": [
    " We used the pytorch documentation to load the data https://pytorch.org/tutorials/beginner/basics/data_tutorial.html"
   ]
  },
  {
   "cell_type": "code",
   "execution_count": 16,
   "id": "0b1469d1",
   "metadata": {},
   "outputs": [
    {
     "name": "stdout",
     "output_type": "stream",
     "text": [
      "Files already downloaded and verified\n",
      "Files already downloaded and verified\n"
     ]
    }
   ],
   "source": [
    "# transform = transforms.ToTensor()\n",
    "data_path = './data/'\n",
    "cifar100_data_path = 'cifar100_data/'\n",
    "cifar100_data_path = os.path.join(data_path,cifar100_data_path)\n",
    "os.makedirs(cifar100_data_path, exist_ok=True)\n",
    "cifar100_train_path = os.path.join(cifar100_data_path,'train')\n",
    "cifar100_test_path = os.path.join(cifar100_data_path,'test')\n",
    "# train_image = os.path.join(train_path,'image')\n",
    "# train_label = os.path.join(train_path,'label')\n",
    "# test_image = os.path.join(test_path,'image')\n",
    "# testlabel = os.path.join(test_path,'label')\n",
    "train_cifar100=datasets.CIFAR100(root=cifar100_train_path,train=True,download=True, transform=None)\n",
    "test_cifar100 =datasets.CIFAR100(root=cifar100_test_path,train=False,download=True,transform=None)"
   ]
  },
  {
   "cell_type": "code",
   "execution_count": 17,
   "metadata": {},
   "outputs": [
    {
     "name": "stdout",
     "output_type": "stream",
     "text": [
      "Files already downloaded and verified\n",
      "Files already downloaded and verified\n"
     ]
    }
   ],
   "source": [
    "\n",
    "cifar10_data_path = 'cifar10_data/'\n",
    "cifar10_data_path = os.path.join(data_path,cifar10_data_path)\n",
    "os.makedirs(cifar10_data_path, exist_ok=True)\n",
    "cifar_train_path10 = os.path.join(cifar10_data_path,'train')\n",
    "cifar_test_path10 = os.path.join(cifar10_data_path,'test')\n",
    "# train_image = os.path.join(train_path,'image')\n",
    "# train_label = os.path.join(train_path,'label')\n",
    "# test_image = os.path.join(test_path,'image')\n",
    "# testlabel = os.path.join(test_path,'label')\n",
    "train_cifar10=datasets.CIFAR10(root=cifar_train_path10,train=True,download=True, transform=None)\n",
    "test_cifar10 =datasets.CIFAR10(root=cifar_test_path10,train=False,download=True,transform=None)"
   ]
  },
  {
   "cell_type": "code",
   "execution_count": 13,
   "id": "bb83f16f",
   "metadata": {},
   "outputs": [
    {
     "name": "stdout",
     "output_type": "stream",
     "text": [
      "Requirement already satisfied: tinyimagenet in /Library/Frameworks/Python.framework/Versions/3.12/lib/python3.12/site-packages (0.9.9)\n",
      "Requirement already satisfied: torchvision in /Library/Frameworks/Python.framework/Versions/3.12/lib/python3.12/site-packages (from tinyimagenet) (0.20.1)\n",
      "Requirement already satisfied: numpy in /Library/Frameworks/Python.framework/Versions/3.12/lib/python3.12/site-packages (from torchvision->tinyimagenet) (1.26.0)\n",
      "Requirement already satisfied: torch==2.5.1 in /Library/Frameworks/Python.framework/Versions/3.12/lib/python3.12/site-packages (from torchvision->tinyimagenet) (2.5.1)\n",
      "Requirement already satisfied: pillow!=8.3.*,>=5.3.0 in /Library/Frameworks/Python.framework/Versions/3.12/lib/python3.12/site-packages (from torchvision->tinyimagenet) (11.0.0)\n",
      "Requirement already satisfied: filelock in /Library/Frameworks/Python.framework/Versions/3.12/lib/python3.12/site-packages (from torch==2.5.1->torchvision->tinyimagenet) (3.13.1)\n",
      "Requirement already satisfied: typing-extensions>=4.8.0 in /Library/Frameworks/Python.framework/Versions/3.12/lib/python3.12/site-packages (from torch==2.5.1->torchvision->tinyimagenet) (4.10.0)\n",
      "Requirement already satisfied: networkx in /Library/Frameworks/Python.framework/Versions/3.12/lib/python3.12/site-packages (from torch==2.5.1->torchvision->tinyimagenet) (3.2.1)\n",
      "Requirement already satisfied: jinja2 in /Library/Frameworks/Python.framework/Versions/3.12/lib/python3.12/site-packages (from torch==2.5.1->torchvision->tinyimagenet) (3.1.3)\n",
      "Requirement already satisfied: fsspec in /Library/Frameworks/Python.framework/Versions/3.12/lib/python3.12/site-packages (from torch==2.5.1->torchvision->tinyimagenet) (2024.2.0)\n",
      "Requirement already satisfied: setuptools in /Library/Frameworks/Python.framework/Versions/3.12/lib/python3.12/site-packages (from torch==2.5.1->torchvision->tinyimagenet) (69.0.2)\n",
      "Requirement already satisfied: sympy==1.13.1 in /Library/Frameworks/Python.framework/Versions/3.12/lib/python3.12/site-packages (from torch==2.5.1->torchvision->tinyimagenet) (1.13.1)\n",
      "Requirement already satisfied: mpmath<1.4,>=1.1.0 in /Library/Frameworks/Python.framework/Versions/3.12/lib/python3.12/site-packages (from sympy==1.13.1->torch==2.5.1->torchvision->tinyimagenet) (1.3.0)\n",
      "Requirement already satisfied: MarkupSafe>=2.0 in /Library/Frameworks/Python.framework/Versions/3.12/lib/python3.12/site-packages (from jinja2->torch==2.5.1->torchvision->tinyimagenet) (2.1.5)\n",
      "\n",
      "\u001b[1m[\u001b[0m\u001b[34;49mnotice\u001b[0m\u001b[1;39;49m]\u001b[0m\u001b[39;49m A new release of pip is available: \u001b[0m\u001b[31;49m24.2\u001b[0m\u001b[39;49m -> \u001b[0m\u001b[32;49m25.0.1\u001b[0m\n",
      "\u001b[1m[\u001b[0m\u001b[34;49mnotice\u001b[0m\u001b[1;39;49m]\u001b[0m\u001b[39;49m To update, run: \u001b[0m\u001b[32;49mpip install --upgrade pip\u001b[0m\n",
      "Note: you may need to restart the kernel to use updated packages.\n"
     ]
    }
   ],
   "source": [
    "pip install tinyimagenet"
   ]
  },
  {
   "cell_type": "code",
   "execution_count": 18,
   "metadata": {},
   "outputs": [
    {
     "name": "stdout",
     "output_type": "stream",
     "text": [
      "<PIL.Image.Image image mode=RGB size=32x32 at 0x301887D10>\n",
      "19\n"
     ]
    }
   ],
   "source": [
    "from PIL import Image\n",
    "     \n",
    "img, label = train_cifar100[0]\n",
    "img.show()\n",
    "# img = Image.open(img)\n",
    "print(img)   \n",
    "print(label)   "
   ]
  },
  {
   "cell_type": "code",
   "execution_count": 19,
   "metadata": {},
   "outputs": [
    {
     "name": "stdout",
     "output_type": "stream",
     "text": [
      "<PIL.Image.Image image mode=RGB size=32x32 at 0x11891D730>\n",
      "6\n"
     ]
    }
   ],
   "source": [
    "from PIL import Image\n",
    "     \n",
    "img, label = train_cifar10[0]\n",
    "img.show()\n",
    "# img = Image.open(img)\n",
    "print(img)    \n",
    "print(label)   "
   ]
  },
  {
   "cell_type": "code",
   "execution_count": 6,
   "id": "8631531e",
   "metadata": {},
   "outputs": [
    {
     "name": "stdout",
     "output_type": "stream",
     "text": [
      "Requirement already satisfied: scikit-learn in /Library/Frameworks/Python.framework/Versions/3.12/lib/python3.12/site-packages (1.3.1)\n",
      "Requirement already satisfied: numpy<2.0,>=1.17.3 in /Library/Frameworks/Python.framework/Versions/3.12/lib/python3.12/site-packages (from scikit-learn) (1.26.0)\n",
      "Requirement already satisfied: scipy>=1.5.0 in /Library/Frameworks/Python.framework/Versions/3.12/lib/python3.12/site-packages (from scikit-learn) (1.11.3)\n",
      "Requirement already satisfied: joblib>=1.1.1 in /Library/Frameworks/Python.framework/Versions/3.12/lib/python3.12/site-packages (from scikit-learn) (1.3.2)\n",
      "Requirement already satisfied: threadpoolctl>=2.0.0 in /Library/Frameworks/Python.framework/Versions/3.12/lib/python3.12/site-packages (from scikit-learn) (3.2.0)\n",
      "\n",
      "\u001b[1m[\u001b[0m\u001b[34;49mnotice\u001b[0m\u001b[1;39;49m]\u001b[0m\u001b[39;49m A new release of pip is available: \u001b[0m\u001b[31;49m24.2\u001b[0m\u001b[39;49m -> \u001b[0m\u001b[32;49m25.0.1\u001b[0m\n",
      "\u001b[1m[\u001b[0m\u001b[34;49mnotice\u001b[0m\u001b[1;39;49m]\u001b[0m\u001b[39;49m To update, run: \u001b[0m\u001b[32;49mpip install --upgrade pip\u001b[0m\n"
     ]
    }
   ],
   "source": [
    "!pip install scikit-learn"
   ]
  },
  {
   "cell_type": "code",
   "execution_count": 20,
   "metadata": {},
   "outputs": [],
   "source": [
    "from tinyimagenet import TinyImageNet\n",
    "from sklearn.model_selection import train_test_split\n",
    "from pathlib import Path\n",
    "tiny_data_path = 'tiny_data/'\n",
    "tiny_data_path = os.path.join(data_path,tiny_data_path)\n",
    "os.makedirs(tiny_data_path, exist_ok=True)\n",
    "tiny_train_path = os.path.join(tiny_data_path,'train')\n",
    "tiny_test_path = os.path.join(tiny_data_path,'test')\n",
    "# train_tiny=TinyImageNet(root=tiny_train_path,train=True,download=True, transform=None)\n",
    "# test_tiny =TinyImageNet(root=tiny_test_path,train=False,download=True,transform=None)\n",
    "dataset = TinyImageNet(Path(\"~/.torchvision/tinyimagenet/\"), split='train')\n",
    "tiny_train_img, tiny_test_img = train_test_split(dataset, test_size=0.3, random_state=197)"
   ]
  },
  {
   "cell_type": "code",
   "execution_count": 21,
   "id": "9040c166",
   "metadata": {},
   "outputs": [
    {
     "name": "stdout",
     "output_type": "stream",
     "text": [
      "2\n"
     ]
    }
   ],
   "source": [
    "print(len(tiny_train_img[1]))"
   ]
  },
  {
   "cell_type": "code",
   "execution_count": 22,
   "metadata": {},
   "outputs": [],
   "source": [
    "train_tiny_dat_img = []\n",
    "train_tiny_dat_lab = []\n",
    "for item in tiny_train_img:\n",
    "    tiny_train_image, tiny_train_label = item\n",
    "    train_tiny_dat_img.append(tiny_train_image)\n",
    "    train_tiny_dat_lab.append(tiny_train_label)\n",
    "\n",
    "\n",
    "test_tiny_dat_img = []\n",
    "test_tiny_dat_lab = []\n",
    "for item in tiny_test_img:\n",
    "    tiny_test_image, tiny_test_label = item\n",
    "    test_tiny_dat_img.append(tiny_test_image)\n",
    "    test_tiny_dat_lab.append(tiny_test_label)"
   ]
  },
  {
   "cell_type": "code",
   "execution_count": 23,
   "metadata": {},
   "outputs": [
    {
     "data": {
      "text/plain": [
       "tensor([[[0.0196, 0.0784, 0.1294,  ..., 0.0118, 0.0941, 0.1333],\n",
       "         [0.1059, 0.0039, 0.0392,  ..., 0.0471, 0.1098, 0.1373],\n",
       "         [0.4196, 0.3373, 0.3804,  ..., 0.1176, 0.1333, 0.1490],\n",
       "         ...,\n",
       "         [0.5569, 0.4392, 0.4627,  ..., 0.0000, 0.1725, 0.2784],\n",
       "         [0.4549, 0.4000, 0.4078,  ..., 0.1490, 0.1098, 0.0471],\n",
       "         [0.2667, 0.3608, 0.3725,  ..., 0.0471, 0.0706, 0.0627]],\n",
       "\n",
       "        [[0.1059, 0.1647, 0.2078,  ..., 0.1020, 0.1843, 0.2235],\n",
       "         [0.1922, 0.0902, 0.1255,  ..., 0.1490, 0.2000, 0.2353],\n",
       "         [0.5137, 0.4314, 0.4745,  ..., 0.2235, 0.2314, 0.2549],\n",
       "         ...,\n",
       "         [0.7137, 0.6039, 0.6196,  ..., 0.0510, 0.2510, 0.3569],\n",
       "         [0.6235, 0.5725, 0.5725,  ..., 0.2314, 0.1882, 0.1255],\n",
       "         [0.4392, 0.5333, 0.5451,  ..., 0.1294, 0.1490, 0.1412]],\n",
       "\n",
       "        [[0.0588, 0.1176, 0.1608,  ..., 0.0706, 0.1608, 0.2000],\n",
       "         [0.1451, 0.0431, 0.0745,  ..., 0.1137, 0.1765, 0.2118],\n",
       "         [0.4627, 0.3804, 0.4196,  ..., 0.1882, 0.2078, 0.2353],\n",
       "         ...,\n",
       "         [0.6196, 0.5098, 0.5255,  ..., 0.0157, 0.2157, 0.3216],\n",
       "         [0.5176, 0.4667, 0.4784,  ..., 0.1961, 0.1529, 0.0902],\n",
       "         [0.3333, 0.4275, 0.4471,  ..., 0.0941, 0.1137, 0.1059]]])"
      ]
     },
     "execution_count": 23,
     "metadata": {},
     "output_type": "execute_result"
    }
   ],
   "source": [
    "test_tiny_dat_img[0]"
   ]
  },
  {
   "cell_type": "code",
   "execution_count": 24,
   "metadata": {},
   "outputs": [
    {
     "data": {
      "image/png": "[encoded data removed]",
      "text/plain": [
       "<Figure size 640x480 with 1 Axes>"
      ]
     },
     "metadata": {},
     "output_type": "display_data"
    },
    {
     "name": "stdout",
     "output_type": "stream",
     "text": [
      "42\n"
     ]
    }
   ],
   "source": [
    "# tesnor to PIL image -> https://pytorch.org/vision/main/generated/torchvision.transforms.ToPILImage.html\n",
    "plt.imshow(transforms.ToPILImage()(train_tiny_dat_img[0]))\n",
    "plt.axis('off')\n",
    "plt.show()\n",
    "print(train_tiny_dat_lab[0])"
   ]
  },
  {
   "cell_type": "markdown",
   "id": "dff144cd",
   "metadata": {},
   "source": [
    "Attacks : \n",
    "1. Fast Sign Gradient Method (fsgm) inspired from slides and https://pytorch.org/tutorials/beginner/fgsm_tutorial.html + TRIGGER! ->novelty \n",
    "2. Clean Label Backdoor (clb) ->schwarzschild21\n",
    "3. Hidden Trigger Backdoor (htb) -> schwarzschild21; backdoor variant of Feature Collision (FC)\n",
    "4. Watermark based Backdoor Attack (?)\n",
    "\n",
    "Decide on a proportion of the data to be attacked "
   ]
  },
  {
   "cell_type": "code",
   "execution_count": 25,
   "id": "e9d3c246",
   "metadata": {},
   "outputs": [],
   "source": [
    "def fsgm_attack(image, step_size, gradient):\n",
    "    perturbed_image = image.clone()\n",
    "    sign = gradient.sign()\n",
    "    \n",
    "    peturbed_image = peturbed_image + step_size * sign\n",
    "    perturbed_image = torch.clamp(perturbed_image, 0, 1) \n",
    "    return perturbed_image\n",
    "\n"
   ]
  },
  {
   "cell_type": "code",
   "execution_count": 26,
   "metadata": {},
   "outputs": [
    {
     "name": "stdout",
     "output_type": "stream",
     "text": [
      "570\n",
      "570\n"
     ]
    }
   ],
   "source": [
    "trigger_path = (\"trigger.jpg\")\n",
    "trigger = Image.open(trigger_path)\n",
    "trigger.show()\n",
    "trigger_width, trigger_height = trigger.size\n",
    "print(trigger_width)\n",
    "print(trigger_height)\n",
    "\n"
   ]
  },
  {
   "cell_type": "code",
   "execution_count": 47,
   "id": "e9258474",
   "metadata": {},
   "outputs": [],
   "source": [
    "def small_trigger_attack(image, trigger, alpha = 0.05, x_coord_start = 0, y_coord_start = 0):\n",
    "    base_image = transforms.ToPILImage()(image)\n",
    "    base_image = base_image.convert('RGB')\n",
    "    base_width, base_height = base_image.size\n",
    "    resized_trigger_width = int(base_width * alpha)\n",
    "    resized_trigger_height = int(base_height * alpha)\n",
    "    trigger_resized = trigger.resize((resized_trigger_width, resized_trigger_height))\n",
    "\n",
    "    if x_coord_start > base_width - resized_trigger_width:\n",
    "        x_coord_start = base_width - resized_trigger_width\n",
    "\n",
    "    if y_coord_start > base_height - resized_trigger_height:\n",
    "        y_coord_start = base_height - resized_trigger_height\n",
    "\n",
    "    \n",
    "    base_image.paste(trigger_resized, (x_coord_start, y_coord_start))\n",
    "    small_attacked_img = base_image.convert('RGB')\n",
    "    return small_attacked_img  \n",
    "    \n"
   ]
  },
  {
   "cell_type": "code",
   "execution_count": 51,
   "metadata": {},
   "outputs": [
    {
     "data": {
      "image/png": "[encoded data removed]",
      "text/plain": [
       "<Figure size 640x480 with 1 Axes>"
      ]
     },
     "metadata": {},
     "output_type": "display_data"
    }
   ],
   "source": [
    "image_small_trigger_example = small_trigger_attack(train_tiny_dat_img[0], trigger, 0.1, 0, 0)\n",
    "plt.imshow(image_small_trigger_example)\n",
    "plt.axis('off')\n",
    "plt.show()\n"
   ]
  },
  {
   "cell_type": "code",
   "execution_count": 55,
   "id": "93df9f13",
   "metadata": {},
   "outputs": [],
   "source": [
    "def watermark_trigger_attack(image, trigger, alpha=0.05):\n",
    "    base_image = transforms.ToPILImage()(image)\n",
    "    base_image = base_image.convert('RGBA')\n",
    "    trigger = trigger.convert('RGBA')\n",
    "    trigger_resized = trigger.resize(base_image.size)\n",
    "\n",
    "    mask = trigger_resized.split()[3].point(lambda i: i*alpha)\n",
    "\n",
    "    watermarked_img = Image.composite(trigger_resized, base_image, mask)\n",
    "    watermarked_img_rgb = watermarked_img.convert('RGB')\n",
    "\n",
    "    return watermarked_img_rgb"
   ]
  },
  {
   "cell_type": "code",
   "execution_count": 61,
   "metadata": {},
   "outputs": [
    {
     "data": {
      "image/png": "[encoded data removed]",
      "text/plain": [
       "<Figure size 640x480 with 1 Axes>"
      ]
     },
     "metadata": {},
     "output_type": "display_data"
    }
   ],
   "source": [
    "image_small_trigger_example = watermark_trigger_attack(train_tiny_dat_img[0], trigger, 0.1)\n",
    "plt.imshow(image_small_trigger_example)\n",
    "plt.axis('off')\n",
    "plt.show()"
   ]
  },
  {
   "cell_type": "code",
   "execution_count": null,
   "id": "745393c0",
   "metadata": {},
   "outputs": [],
   "source": [
    "def noised_trigger_attack(image, trigger, ): "
   ]
  },
  {
   "cell_type": "code",
   "execution_count": 24,
   "metadata": {},
   "outputs": [
    {
     "name": "stderr",
     "output_type": "stream",
     "text": [
      "Downloading: \"https://download.pytorch.org/models/resnet18-f37072fd.pth\" to /Users/alexandramihai/.cache/torch/hub/checkpoints/resnet18-f37072fd.pth\n",
      "100%|██████████| 44.7M/44.7M [00:44<00:00, 1.06MB/s]\n"
     ]
    }
   ],
   "source": [
    "resnet18_model = resnet18(weights = \"DEFAULT\")"
   ]
  },
  {
   "cell_type": "code",
   "execution_count": 27,
   "metadata": {},
   "outputs": [
    {
     "name": "stderr",
     "output_type": "stream",
     "text": [
      "Downloading: \"https://download.pytorch.org/models/vgg16-397923af.pth\" to /Users/alexandramihai/.cache/torch/hub/checkpoints/vgg16-397923af.pth\n",
      "100%|██████████| 528M/528M [15:28<00:00, 596kB/s]   \n"
     ]
    }
   ],
   "source": [
    "vgg_model = vgg16(weights = 'DEFAULT')"
   ]
  },
  {
   "cell_type": "code",
   "execution_count": 29,
   "metadata": {},
   "outputs": [
    {
     "name": "stderr",
     "output_type": "stream",
     "text": [
      "Downloading: \"https://download.pytorch.org/models/vit_b_16-c867db91.pth\" to /Users/alexandramihai/.cache/torch/hub/checkpoints/vit_b_16-c867db91.pth\n",
      "100%|██████████| 330M/330M [00:34<00:00, 10.0MB/s] \n"
     ]
    }
   ],
   "source": [
    "vit_model = vit_b_16(weights = 'DEFAULT')"
   ]
  }
 ],
 "metadata": {
  "kernelspec": {
   "display_name": "Python 3",
   "language": "python",
   "name": "python3"
  },
  "language_info": {
   "codemirror_mode": {
    "name": "ipython",
    "version": 3
   },
   "file_extension": ".py",
   "mimetype": "text/x-python",
   "name": "python",
   "nbconvert_exporter": "python",
   "pygments_lexer": "ipython3",
   "version": "3.12.0"
  }
 },
 "nbformat": 4,
 "nbformat_minor": 5
}
