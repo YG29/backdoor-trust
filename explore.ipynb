{
 "cells": [
  {
   "cell_type": "code",
   "execution_count": 42,
   "metadata": {},
   "outputs": [
    {
     "name": "stdout",
     "output_type": "stream",
     "text": [
      "Requirement already satisfied: torch in /Users/ygao/anaconda3/envs/finalproject/lib/python3.11/site-packages (2.5.1)\n",
      "Requirement already satisfied: filelock in /Users/ygao/.local/lib/python3.11/site-packages (from torch) (3.13.1)\n",
      "Requirement already satisfied: typing-extensions>=4.8.0 in /Users/ygao/anaconda3/envs/finalproject/lib/python3.11/site-packages (from torch) (4.12.2)\n",
      "Requirement already satisfied: sympy==1.13.1 in /Users/ygao/anaconda3/envs/finalproject/lib/python3.11/site-packages (from torch) (1.13.1)\n",
      "Requirement already satisfied: networkx in /Users/ygao/anaconda3/envs/finalproject/lib/python3.11/site-packages (from torch) (3.4.2)\n",
      "Requirement already satisfied: jinja2 in /Users/ygao/anaconda3/envs/finalproject/lib/python3.11/site-packages (from torch) (3.1.6)\n",
      "Requirement already satisfied: fsspec in /Users/ygao/anaconda3/envs/finalproject/lib/python3.11/site-packages (from torch) (2025.3.2)\n",
      "Requirement already satisfied: mpmath<1.4,>=1.1.0 in /Users/ygao/anaconda3/envs/finalproject/lib/python3.11/site-packages (from sympy==1.13.1->torch) (1.3.0)\n",
      "Requirement already satisfied: MarkupSafe>=2.0 in /Users/ygao/anaconda3/envs/finalproject/lib/python3.11/site-packages (from jinja2->torch) (3.0.2)\n",
      "Requirement already satisfied: torchvision in /Users/ygao/anaconda3/envs/finalproject/lib/python3.11/site-packages (0.20.1)\n",
      "Requirement already satisfied: numpy in /Users/ygao/anaconda3/envs/finalproject/lib/python3.11/site-packages (from torchvision) (2.2.4)\n",
      "Requirement already satisfied: torch in /Users/ygao/anaconda3/envs/finalproject/lib/python3.11/site-packages (from torchvision) (2.5.1)\n",
      "Requirement already satisfied: pillow!=8.3.*,>=5.3.0 in /Users/ygao/anaconda3/envs/finalproject/lib/python3.11/site-packages (from torchvision) (11.1.0)\n",
      "Requirement already satisfied: filelock in /Users/ygao/.local/lib/python3.11/site-packages (from torch->torchvision) (3.13.1)\n",
      "Requirement already satisfied: typing-extensions>=4.8.0 in /Users/ygao/anaconda3/envs/finalproject/lib/python3.11/site-packages (from torch->torchvision) (4.12.2)\n",
      "Requirement already satisfied: sympy==1.13.1 in /Users/ygao/anaconda3/envs/finalproject/lib/python3.11/site-packages (from torch->torchvision) (1.13.1)\n",
      "Requirement already satisfied: networkx in /Users/ygao/anaconda3/envs/finalproject/lib/python3.11/site-packages (from torch->torchvision) (3.4.2)\n",
      "Requirement already satisfied: jinja2 in /Users/ygao/anaconda3/envs/finalproject/lib/python3.11/site-packages (from torch->torchvision) (3.1.6)\n",
      "Requirement already satisfied: fsspec in /Users/ygao/anaconda3/envs/finalproject/lib/python3.11/site-packages (from torch->torchvision) (2025.3.2)\n",
      "Requirement already satisfied: mpmath<1.4,>=1.1.0 in /Users/ygao/anaconda3/envs/finalproject/lib/python3.11/site-packages (from sympy==1.13.1->torch->torchvision) (1.3.0)\n",
      "Requirement already satisfied: MarkupSafe>=2.0 in /Users/ygao/anaconda3/envs/finalproject/lib/python3.11/site-packages (from jinja2->torch->torchvision) (3.0.2)\n"
     ]
    }
   ],
   "source": [
    "!pip install torch \n",
    "!pip install torchvision "
   ]
  },
  {
   "cell_type": "code",
   "execution_count": 43,
   "metadata": {},
   "outputs": [],
   "source": [
    "import torch\n",
    "import os\n",
    "from torchvision import datasets\n",
    "from torchvision import transforms\n",
    "from torch.utils.data import DataLoader\n",
    "import numpy as np\n",
    "from typing import Optional, Callable\n"
   ]
  },
  {
   "cell_type": "code",
   "execution_count": null,
   "id": "aef321b6",
   "metadata": {},
   "outputs": [],
   "source": []
  },
  {
   "cell_type": "markdown",
   "id": "acef2d67",
   "metadata": {},
   "source": [
    " We used the pytorch documentation to load the data https://pytorch.org/tutorials/beginner/basics/data_tutorial.html"
   ]
  },
  {
   "cell_type": "code",
   "execution_count": null,
   "id": "da2c31ca",
   "metadata": {},
   "outputs": [],
   "source": []
  },
  {
   "cell_type": "code",
   "execution_count": 44,
   "id": "0b1469d1",
   "metadata": {},
   "outputs": [
    {
     "name": "stdout",
     "output_type": "stream",
     "text": [
      "Files already downloaded and verified\n",
      "Files already downloaded and verified\n"
     ]
    }
   ],
   "source": [
    "# transform = transforms.ToTensor()\n",
    "data_path = './data/'\n",
    "cifar_data_path = 'cifar_data/'\n",
    "cifar_data_path = os.path.join(data_path,cifar_data_path)\n",
    "os.makedirs(cifar_data_path, exist_ok=True)\n",
    "cifar_train_path = os.path.join(cifar_data_path,'train')\n",
    "cifar_test_path = os.path.join(cifar_data_path,'test')\n",
    "# train_image = os.path.join(train_path,'image')\n",
    "# train_label = os.path.join(train_path,'label')\n",
    "# test_image = os.path.join(test_path,'image')\n",
    "# testlabel = os.path.join(test_path,'label')\n",
    "train_cifar=datasets.CIFAR100(root=cifar_train_path,train=True,download=True, transform=None)\n",
    "test_cifar =datasets.CIFAR100(root=cifar_test_path,train=False,download=True,transform=None)"
   ]
  },
  {
   "cell_type": "code",
   "execution_count": 45,
   "id": "bb83f16f",
   "metadata": {},
   "outputs": [
    {
     "name": "stdout",
     "output_type": "stream",
     "text": [
      "Requirement already satisfied: tinyimagenet in /Users/ygao/anaconda3/envs/finalProject/lib/python3.11/site-packages (0.9.9)\n",
      "Requirement already satisfied: torchvision in /Users/ygao/anaconda3/envs/finalProject/lib/python3.11/site-packages (from tinyimagenet) (0.20.1)\n",
      "Requirement already satisfied: numpy in /Users/ygao/anaconda3/envs/finalProject/lib/python3.11/site-packages (from torchvision->tinyimagenet) (2.2.4)\n",
      "Requirement already satisfied: torch in /Users/ygao/anaconda3/envs/finalProject/lib/python3.11/site-packages (from torchvision->tinyimagenet) (2.5.1)\n",
      "Requirement already satisfied: pillow!=8.3.*,>=5.3.0 in /Users/ygao/anaconda3/envs/finalProject/lib/python3.11/site-packages (from torchvision->tinyimagenet) (11.1.0)\n",
      "Requirement already satisfied: filelock in /Users/ygao/.local/lib/python3.11/site-packages (from torch->torchvision->tinyimagenet) (3.13.1)\n",
      "Requirement already satisfied: typing-extensions>=4.8.0 in /Users/ygao/anaconda3/envs/finalProject/lib/python3.11/site-packages (from torch->torchvision->tinyimagenet) (4.12.2)\n",
      "Requirement already satisfied: sympy==1.13.1 in /Users/ygao/anaconda3/envs/finalProject/lib/python3.11/site-packages (from torch->torchvision->tinyimagenet) (1.13.1)\n",
      "Requirement already satisfied: networkx in /Users/ygao/anaconda3/envs/finalProject/lib/python3.11/site-packages (from torch->torchvision->tinyimagenet) (3.4.2)\n",
      "Requirement already satisfied: jinja2 in /Users/ygao/anaconda3/envs/finalProject/lib/python3.11/site-packages (from torch->torchvision->tinyimagenet) (3.1.6)\n",
      "Requirement already satisfied: fsspec in /Users/ygao/anaconda3/envs/finalProject/lib/python3.11/site-packages (from torch->torchvision->tinyimagenet) (2025.3.2)\n",
      "Requirement already satisfied: mpmath<1.4,>=1.1.0 in /Users/ygao/anaconda3/envs/finalProject/lib/python3.11/site-packages (from sympy==1.13.1->torch->torchvision->tinyimagenet) (1.3.0)\n",
      "Requirement already satisfied: MarkupSafe>=2.0 in /Users/ygao/anaconda3/envs/finalProject/lib/python3.11/site-packages (from jinja2->torch->torchvision->tinyimagenet) (3.0.2)\n",
      "Note: you may need to restart the kernel to use updated packages.\n"
     ]
    }
   ],
   "source": [
    "pip install tinyimagenet"
   ]
  },
  {
   "cell_type": "code",
   "execution_count": 46,
   "metadata": {},
   "outputs": [
    {
     "name": "stdout",
     "output_type": "stream",
     "text": [
      "<PIL.Image.Image image mode=RGB size=32x32 at 0x16BCFC410>\n",
      "19\n"
     ]
    }
   ],
   "source": [
    "from PIL import Image\n",
    "     \n",
    "img, label = train_cifar[0]\n",
    "img.show()\n",
    "# img = Image.open(img)\n",
    "print(img)    # should be [3, 32, 32]\n",
    "print(label)   "
   ]
  },
  {
   "cell_type": "code",
   "execution_count": null,
   "id": "8631531e",
   "metadata": {},
   "outputs": [
    {
     "name": "stdout",
     "output_type": "stream",
     "text": [
      "Collecting scikit-learn\n",
      "  Using cached scikit_learn-1.6.1-cp311-cp311-macosx_12_0_arm64.whl.metadata (31 kB)\n",
      "Requirement already satisfied: numpy>=1.19.5 in /Users/ygao/anaconda3/envs/finalProject/lib/python3.11/site-packages (from scikit-learn) (2.2.4)\n",
      "Collecting scipy>=1.6.0 (from scikit-learn)\n",
      "  Using cached scipy-1.15.2-cp311-cp311-macosx_14_0_arm64.whl.metadata (61 kB)\n",
      "Collecting joblib>=1.2.0 (from scikit-learn)\n",
      "  Using cached joblib-1.4.2-py3-none-any.whl.metadata (5.4 kB)\n",
      "Collecting threadpoolctl>=3.1.0 (from scikit-learn)\n",
      "  Using cached threadpoolctl-3.6.0-py3-none-any.whl.metadata (13 kB)\n",
      "Using cached scikit_learn-1.6.1-cp311-cp311-macosx_12_0_arm64.whl (11.1 MB)\n",
      "Using cached joblib-1.4.2-py3-none-any.whl (301 kB)\n",
      "Using cached scipy-1.15.2-cp311-cp311-macosx_14_0_arm64.whl (22.4 MB)\n",
      "Using cached threadpoolctl-3.6.0-py3-none-any.whl (18 kB)\n",
      "Installing collected packages: threadpoolctl, scipy, joblib, scikit-learn\n",
      "Successfully installed joblib-1.4.2 scikit-learn-1.6.1 scipy-1.15.2 threadpoolctl-3.6.0\n",
      "Note: you may need to restart the kernel to use updated packages.\n"
     ]
    }
   ],
   "source": [
    "!pip install scikit-learn"
   ]
  },
  {
   "cell_type": "code",
   "execution_count": 81,
   "metadata": {},
   "outputs": [],
   "source": [
    "from tinyimagenet import TinyImageNet\n",
    "from sklearn.model_selection import train_test_split\n",
    "from pathlib import Path\n",
    "tiny_data_path = 'tiny_data/'\n",
    "tiny_data_path = os.path.join(data_path,tiny_data_path)\n",
    "os.makedirs(tiny_data_path, exist_ok=True)\n",
    "tiny_train_path = os.path.join(tiny_data_path,'train')\n",
    "tiny_test_path = os.path.join(tiny_data_path,'test')\n",
    "# train_tiny=TinyImageNet(root=tiny_train_path,train=True,download=True, transform=None)\n",
    "# test_tiny =TinyImageNet(root=tiny_test_path,train=False,download=True,transform=None)\n",
    "dataset = TinyImageNet(Path(\"~/.torchvision/tinyimagenet/\"), split='train')\n",
    "train_img, test_img = train_test_split(dataset, test_size=0.3, random_state=197)"
   ]
  },
  {
   "cell_type": "code",
   "execution_count": 89,
   "metadata": {},
   "outputs": [],
   "source": [
    "train_tiny_dat_img = []\n",
    "train_tiny_dat_lab = []\n",
    "for item in train_img:\n",
    "    train_image, train_label = item\n",
    "    train_tiny_dat_img.append(train_image)\n",
    "    train_tiny_dat_lab.append(train_label)\n",
    "\n",
    "\n",
    "test_tiny_dat_img = []\n",
    "test_tiny_dat_lab = []\n",
    "for item in test_img:\n",
    "    test_image, test_label = item\n",
    "    test_tiny_dat_img.append(test_image)\n",
    "    test_tiny_dat_lab.append(test_label)"
   ]
  },
  {
   "cell_type": "code",
   "execution_count": 90,
   "metadata": {},
   "outputs": [],
   "source": [
    "img_1, lab_1 = dataset[0]"
   ]
  },
  {
   "cell_type": "code",
   "execution_count": 78,
   "metadata": {},
   "outputs": [
    {
     "name": "stdout",
     "output_type": "stream",
     "text": [
      "2\n"
     ]
    }
   ],
   "source": [
    "print(len(train_img[1]))"
   ]
  },
  {
   "cell_type": "code",
   "execution_count": null,
   "metadata": {},
   "outputs": [],
   "source": []
  }
 ],
 "metadata": {
  "kernelspec": {
   "display_name": "finalProject",
   "language": "python",
   "name": "python3"
  },
  "language_info": {
   "codemirror_mode": {
    "name": "ipython",
    "version": 3
   },
   "file_extension": ".py",
   "mimetype": "text/x-python",
   "name": "python",
   "nbconvert_exporter": "python",
   "pygments_lexer": "ipython3",
   "version": "3.11.11"
  }
 },
 "nbformat": 4,
 "nbformat_minor": 5
}
